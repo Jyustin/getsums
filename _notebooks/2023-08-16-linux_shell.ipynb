{
 "cells": [
  {
   "attachments": {},
   "cell_type": "markdown",
   "metadata": {},
   "source": [
    "---\n",
    "layout: post\n",
    "title: Linux Shell and Bash\n",
    "description: A Tech Talk on Linux and the Bash shell.\n",
    "toc: true\n",
    "comments: true\n",
    "categories: [5.A, C4.1]\n",
    "courses: { csse: {week: 1}, csp: {week: 0, categories: [6.B]}, csa: {week: 0} }\n",
    "type: tangibles\n",
    "---"
   ]
  },
  {
   "attachments": {},
   "cell_type": "markdown",
   "metadata": {},
   "source": [
    "## Bash Tutorial\n",
    "> A brief overview of Bash, on your way to becoming a Linux expert.  When a computer boots up, a kernel (MacOS, Windows, Linux) is started.  This kernel provides a shell that allows user to interact with a most basic set of commands.  Typically, the casual user will not interact with the shell as a Desktop User Interface is started by the computer boot up process.  To activate a shell directly, users will run a \"terminal\" through the Desktop. VS Code provides ability to activate \"terminal\" while in the IDE."
   ]
  },
  {
   "attachments": {},
   "cell_type": "markdown",
   "metadata": {},
   "source": [
    "## Prerequisites\n",
    "> Setup bash shell dependency variables for this page.\n",
    "\n",
    "- Hack: Change variables to match your project."
   ]
  },
  {
   "cell_type": "code",
   "execution_count": 3,
   "metadata": {
    "vscode": {
     "languageId": "shellscript"
    }
   },
   "outputs": [
    {
     "name": "stdout",
     "output_type": "stream",
     "text": [
      "bash: fg: %%script: no such job\n"
     ]
    }
   ],
   "source": [
    "%%script bash\n",
    "\n",
    "# Dependency Variables, set to match your project directories\n",
    "\n",
    "cat <<EOF > /tmp/variables.sh\n",
    "export project_dir=$HOME/vscode  # change vscode to different name to test git clone\n",
    "export project=\\$project_dir/getsums  # change teacher to name of project from git clone\n",
    "export project_repo=\"https://github.com/Jyustin/getsums.git\"  # change to project of choice\n",
    "EOF"
   ]
  },
  {
   "cell_type": "code",
   "execution_count": 4,
   "metadata": {
    "vscode": {
     "languageId": "shellscript"
    }
   },
   "outputs": [
    {
     "name": "stdout",
     "output_type": "stream",
     "text": [
      "bash: fg: %%script: no such job\n"
     ]
    },
    {
     "name": "stdout",
     "output_type": "stream",
     "text": [
      "Project dir: /home/dragoon/vscode\n",
      "Project: /home/dragoon/vscode/getsums\n",
      "Repo: https://github.com/Jyustin/getsums.git\n"
     ]
    }
   ],
   "source": [
    "%%script bash\n",
    "\n",
    "# Extract saved variables\n",
    "source /tmp/variables.sh\n",
    "\n",
    "# Access the variables\n",
    "echo \"Project dir: $project_dir\"\n",
    "echo \"Project: $project\"\n",
    "echo \"Repo: $project_repo\""
   ]
  },
  {
   "attachments": {},
   "cell_type": "markdown",
   "metadata": {},
   "source": [
    "## Setup Project\n",
    "> Pull code from GitHub to your machine. This script will create a project directory and add \"project\" from GitHub to the vscode directory.  There is conditional logic to make sure that clone only happen if it does not (!) exist."
   ]
  },
  {
   "cell_type": "code",
   "execution_count": 5,
   "metadata": {
    "vscode": {
     "languageId": "shellscript"
    }
   },
   "outputs": [
    {
     "name": "stdout",
     "output_type": "stream",
     "text": [
      "bash: fg: %%script: no such job\n"
     ]
    },
    {
     "name": "stdout",
     "output_type": "stream",
     "text": [
      "Using conditional statement to create a project directory and project\n",
      "Directory /home/dragoon/vscode exists.\n",
      "Directory /home/dragoon/vscode/getsums does not exists... cloning https://github.com/Jyustin/getsums.git\n",
      "Cloning into 'getsums'...\n",
      "remote: Enumerating objects: 214, done.\u001b[K\n",
      "remote: Counting objects: 100% (214/214), done.\u001b[K\n",
      "remote: Compressing objects: 100% (159/159), done.\u001b[K\n",
      "remote: Total 214 (delta 81), reused 168 (delta 42), pack-reused 0\u001b[K\n",
      "Receiving objects: 100% (214/214), 7.24 MiB | 5.74 MiB/s, done.\n",
      "Resolving deltas: 100% (81/81), done.\n",
      "Directory /home/dragoon/vscode/getsums exists.\n"
     ]
    }
   ],
   "source": [
    "%%script bash\n",
    "\n",
    "# Extract saved variables\n",
    "source /tmp/variables.sh\n",
    "\n",
    "echo \"Using conditional statement to create a project directory and project\"\n",
    "\n",
    "cd ~    # start in home directory\n",
    "\n",
    "# Conditional block to make a project directory\n",
    "if [ ! -d $project_dir ]\n",
    "then \n",
    "    echo \"Directory $project_dir does not exists... makinng directory $project_dir\"\n",
    "    mkdir -p $project_dir\n",
    "fi\n",
    "echo \"Directory $project_dir exists.\" \n",
    "\n",
    "# Conditional block to git clone a project from project_repo\n",
    "if [ ! -d $project ]\n",
    "then\n",
    "    echo \"Directory $project does not exists... cloning $project_repo\"\n",
    "    cd $project_dir\n",
    "    git clone $project_repo\n",
    "    cd ~\n",
    "fi\n",
    "echo \"Directory $project exists.\" "
   ]
  },
  {
   "attachments": {},
   "cell_type": "markdown",
   "metadata": {},
   "source": [
    "### Look at files Github project\n",
    "> All computers contain files and directories.  The clone brought more files from cloud to your machine.  Review the bash shell script observe the commands that show and interact with files and directories.\n",
    "\n",
    "- \"ls\" lists computer files in Unix and Unix-like operating systems\n",
    "- \"cd\" offers way to navigate and change working directory\n",
    "- \"pwd\" print working directory\n",
    "- \"echo\" used to display line of text/string that are passed as an argument"
   ]
  },
  {
   "cell_type": "code",
   "execution_count": 6,
   "metadata": {
    "vscode": {
     "languageId": "shellscript"
    }
   },
   "outputs": [
    {
     "name": "stdout",
     "output_type": "stream",
     "text": [
      "bash: fg: %%script: no such job\n"
     ]
    },
    {
     "name": "stdout",
     "output_type": "stream",
     "text": [
      "Navigate to project, then navigate to area wwhere files were cloned\n",
      "/home/dragoon/vscode/getsums\n",
      "\n",
      "list top level or root of files with project pulled from github\n",
      "Gemfile   README.md    \u001b[0m\u001b[01;34m_layouts\u001b[0m     \u001b[01;34massets\u001b[0m           \u001b[01;34mimages\u001b[0m         \u001b[01;34mjava\u001b[0m\n",
      "LAB.md    _config.yml  \u001b[01;34m_notebooks\u001b[0m   csa.md           index.md       \u001b[01;34mscripts\u001b[0m\n",
      "LICENSE   \u001b[01;34m_data\u001b[0m        \u001b[01;34m_posts\u001b[0m       \u001b[01;34mgarbage\u001b[0m          indexBlogs.md\n",
      "Makefile  \u001b[01;34m_includes\u001b[0m    \u001b[01;32mactivate.sh\u001b[0m  \u001b[01;31mijava-1.3.0.zip\u001b[0m  install.py\n"
     ]
    }
   ],
   "source": [
    "%%script bash\n",
    "\n",
    "# Extract saved variables\n",
    "source /tmp/variables.sh\n",
    "\n",
    "echo \"Navigate to project, then navigate to area wwhere files were cloned\"\n",
    "cd $project\n",
    "pwd\n",
    "\n",
    "echo \"\"\n",
    "echo \"list top level or root of files with project pulled from github\"\n",
    "ls\n"
   ]
  },
  {
   "attachments": {},
   "cell_type": "markdown",
   "metadata": {},
   "source": [
    "### Look at file list with hidden and long attributes\n",
    "> Most linux commands have options to enhance behavior\n",
    "\n",
    "[ls reference](https://www.rapidtables.com/code/linux/ls.html)"
   ]
  },
  {
   "cell_type": "code",
   "execution_count": 7,
   "metadata": {
    "vscode": {
     "languageId": "shellscript"
    }
   },
   "outputs": [
    {
     "name": "stdout",
     "output_type": "stream",
     "text": [
      "bash: fg: %%script: no such job\n"
     ]
    },
    {
     "name": "stdout",
     "output_type": "stream",
     "text": [
      "Navigate to project, then navigate to area wwhere files were cloned\n",
      "/home/dragoon/vscode/getsums\n",
      "\n",
      "list all files in long format\n",
      "total 3400\n",
      "drwxr-xr-x 14 dragoon dragoon    4096 Aug 23 17:37 \u001b[0m\u001b[01;34m.\u001b[0m\n",
      "drwxr-xr-x  6 dragoon dragoon    4096 Aug 23 17:37 \u001b[01;34m..\u001b[0m\n",
      "drwxr-xr-x  8 dragoon dragoon    4096 Aug 23 17:37 \u001b[01;34m.git\u001b[0m\n",
      "drwxr-xr-x  3 dragoon dragoon    4096 Aug 23 17:37 \u001b[01;34m.github\u001b[0m\n",
      "-rw-r--r--  1 dragoon dragoon     104 Aug 23 17:37 .gitignore\n",
      "-rw-r--r--  1 dragoon dragoon     122 Aug 23 17:37 Gemfile\n",
      "-rw-r--r--  1 dragoon dragoon     109 Aug 23 17:37 LAB.md\n",
      "-rw-r--r--  1 dragoon dragoon    1081 Aug 23 17:37 LICENSE\n",
      "-rw-r--r--  1 dragoon dragoon    3115 Aug 23 17:37 Makefile\n",
      "-rw-r--r--  1 dragoon dragoon    5798 Aug 23 17:37 README.md\n",
      "-rw-r--r--  1 dragoon dragoon     416 Aug 23 17:37 _config.yml\n",
      "drwxr-xr-x  2 dragoon dragoon    4096 Aug 23 17:37 \u001b[01;34m_data\u001b[0m\n",
      "drwxr-xr-x  2 dragoon dragoon    4096 Aug 23 17:37 \u001b[01;34m_includes\u001b[0m\n",
      "drwxr-xr-x  2 dragoon dragoon    4096 Aug 23 17:37 \u001b[01;34m_layouts\u001b[0m\n",
      "drwxr-xr-x  2 dragoon dragoon    4096 Aug 23 17:37 \u001b[01;34m_notebooks\u001b[0m\n",
      "drwxr-xr-x  2 dragoon dragoon    4096 Aug 23 17:37 \u001b[01;34m_posts\u001b[0m\n",
      "-rwxr-xr-x  1 dragoon dragoon    1291 Aug 23 17:37 \u001b[01;32mactivate.sh\u001b[0m\n",
      "drwxr-xr-x  4 dragoon dragoon    4096 Aug 23 17:37 \u001b[01;34massets\u001b[0m\n",
      "-rw-r--r--  1 dragoon dragoon     106 Aug 23 17:37 csa.md\n",
      "drwxr-xr-x  3 dragoon dragoon    4096 Aug 23 17:37 \u001b[01;34mgarbage\u001b[0m\n",
      "-rw-r--r--  1 dragoon dragoon 3366077 Aug 23 17:37 \u001b[01;31mijava-1.3.0.zip\u001b[0m\n",
      "drwxr-xr-x  2 dragoon dragoon    4096 Aug 23 17:37 \u001b[01;34mimages\u001b[0m\n",
      "-rw-r--r--  1 dragoon dragoon     310 Aug 23 17:37 index.md\n",
      "-rw-r--r--  1 dragoon dragoon      53 Aug 23 17:37 indexBlogs.md\n",
      "-rw-r--r--  1 dragoon dragoon    7471 Aug 23 17:37 install.py\n",
      "drwxr-xr-x  3 dragoon dragoon    4096 Aug 23 17:37 \u001b[01;34mjava\u001b[0m\n",
      "drwxr-xr-x  3 dragoon dragoon    4096 Aug 23 17:37 \u001b[01;34mscripts\u001b[0m\n"
     ]
    }
   ],
   "source": [
    "%%script bash\n",
    "\n",
    "# Extract saved variables\n",
    "source /tmp/variables.sh\n",
    "\n",
    "echo \"Navigate to project, then navigate to area wwhere files were cloned\"\n",
    "cd $project\n",
    "pwd\n",
    "\n",
    "echo \"\"\n",
    "echo \"list all files in long format\"\n",
    "ls -al   # all files -a (hidden) in -l long listing"
   ]
  },
  {
   "cell_type": "code",
   "execution_count": 8,
   "metadata": {
    "vscode": {
     "languageId": "shellscript"
    }
   },
   "outputs": [
    {
     "name": "stdout",
     "output_type": "stream",
     "text": [
      "bash: fg: %%script: no such job\n"
     ]
    },
    {
     "name": "stdout",
     "output_type": "stream",
     "text": [
      "Look for posts\n",
      "/home/dragoon/vscode/getsums/_posts\n",
      "total 20\n",
      "-rw-r--r-- 1 dragoon dragoon 2440 Aug 23 17:37 '2023-08-18-template copy.md'\n",
      "-rw-r--r-- 1 dragoon dragoon  181 Aug 23 17:37  2023-08-18-template.md\n",
      "-rw-r--r-- 1 dragoon dragoon 6959 Aug 23 17:37  2023-08-23-javascript-calculator.md\n",
      "-rw-r--r-- 1 dragoon dragoon  948 Aug 23 17:37  2023-08-23-week0blog.md\n"
     ]
    }
   ],
   "source": [
    "%%script bash\n",
    "\n",
    "# Extract saved variables\n",
    "source /tmp/variables.sh\n",
    "\n",
    "echo \"Look for posts\"\n",
    "export posts=$project/_posts  # _posts inside project\n",
    "cd $posts  # this should exist per fastpages\n",
    "pwd  # present working directory\n",
    "ls -l  # list posts"
   ]
  },
  {
   "cell_type": "code",
   "execution_count": 9,
   "metadata": {
    "vscode": {
     "languageId": "shellscript"
    }
   },
   "outputs": [
    {
     "name": "stdout",
     "output_type": "stream",
     "text": [
      "bash: fg: %%script: no such job\n"
     ]
    },
    {
     "name": "stdout",
     "output_type": "stream",
     "text": [
      "Look for notebooks\n",
      "/home/dragoon/vscode/getsums/_notebooks\n",
      "total 4\n",
      "-rw-r--r-- 1 dragoon dragoon 1469 Aug 23 17:37 2023-08-23-JAVATEST2.ipynb\n"
     ]
    }
   ],
   "source": [
    "%%script bash\n",
    "\n",
    "# Extract saved variables\n",
    "source /tmp/variables.sh\n",
    "\n",
    "echo \"Look for notebooks\"\n",
    "export notebooks=$project/_notebooks  # _notebooks is inside project\n",
    "cd $notebooks   # this should exist per fastpages\n",
    "pwd  # present working directory\n",
    "ls -l  # list notebooks"
   ]
  },
  {
   "cell_type": "code",
   "execution_count": 10,
   "metadata": {
    "vscode": {
     "languageId": "shellscript"
    }
   },
   "outputs": [
    {
     "name": "stdout",
     "output_type": "stream",
     "text": [
      "bash: fg: %%script: no such job\n"
     ]
    },
    {
     "name": "stdout",
     "output_type": "stream",
     "text": [
      "Look for images in notebooks, print working directory, list files\n",
      "bash: cd: /home/dragoon/vscode/getsums/_notebooks/images: No such file or directory\n",
      "/home/dragoon/vscode/getsums/_notebooks\n",
      "total 4\n",
      "-rw-r--r-- 1 dragoon dragoon 1469 Aug 23 17:37 2023-08-23-JAVATEST2.ipynb\n"
     ]
    }
   ],
   "source": [
    "%%script bash\n",
    "\n",
    "# Extract saved variables\n",
    "source /tmp/variables.sh\n",
    "\n",
    "echo \"Look for images in notebooks, print working directory, list files\"\n",
    "cd $notebooks/images  # this should exist per fastpages\n",
    "pwd\n",
    "ls -l"
   ]
  },
  {
   "attachments": {},
   "cell_type": "markdown",
   "metadata": {},
   "source": [
    "### Look inside a Markdown File\n",
    "> \"cat\" reads data from the file and gives its content as output"
   ]
  },
  {
   "cell_type": "code",
   "execution_count": 11,
   "metadata": {
    "vscode": {
     "languageId": "shellscript"
    }
   },
   "outputs": [
    {
     "name": "stdout",
     "output_type": "stream",
     "text": [
      "bash: fg: %%script: no such job\n"
     ]
    },
    {
     "name": "stdout",
     "output_type": "stream",
     "text": [
      "Navigate to project, then navigate to area wwhere files were cloned\n",
      "show the contents of README.md\n",
      "\n",
      "## Blog site using GitHub Pages and Jekyll\n",
      "> This site is intended for Students.   This is to record plans, complete hacks, and do work for your learnings.\n",
      "- This can be customized to support computer science as you work through pathway (JavaScript, Python/Flask, Java/Spring)\n",
      "- All tangible artifact work is in a _posts or in a _notebooks.  \n",
      "- Front matter (aka meta data) in ipynb and md files is used to organize information according to week and column in running web site.\n",
      "\n",
      "## GitHub Pages\n",
      "All `GitHub Pages` websites are managed on GitHub infrastructure. GitHub uses `Jekyll` to tranform your content into static websites and blogs. Each time we change files in GitHub it initiates a GitHub Action that rebuilds and publishes the site with Jekyll.  \n",
      "- GitHub Pages is powered by: [Jekyll](https://jekyllrb.com/).\n",
      "- Publised teacher website: [nighthawkcoders.github.io/teacher](https://nighthawkcoders.github.io/teacher/)\n",
      "\n",
      "## Preparing a Preview Site \n",
      "In all development, it is recommended to test your code before deployment.  The GitHub Pages development process is optimized by testing your development on your local machine, prior to files on GitHub\n",
      "\n",
      "Development Cycle. For GitHub pages, the tooling described below will create a development cycle  `make-code-save-preview`.  In the development cycle, it is a requirement to preview work locally, prior to doing a VSCode `commit` to git.\n",
      "\n",
      "Deployment Cycle.  In the deplopyment cycle, `sync-github-action-review`, it is a requirement to complete the development cycle prior to doing a VSCode `sync`.  The sync triggers github repository update.  The action starts the jekyll build to publish the website.  Any step can have errors and will require you to do a review.\n",
      "\n",
      "### WSL and/or Ubuntu installation requirements\n",
      "- The result of these step is Ubuntu tools to run preview server.  These procedures were created using [jekyllrb.com](https://jekyllrb.com/docs/installation/ubuntu/)\n",
      "- Run scripts in scripts directory of teacher repo: setup_ubuntu.sh and activate.sh.  Or, follow commands below.\n",
      "```bash\n",
      "## WSL/Ubuntu commands\n",
      "# sudo apt install, installs packages for Ubuntu\n",
      "echo \"=== Ugrade Packages ===\"\n",
      "sudo apt update\n",
      "sudo apt upgrade -y\n",
      "#\n",
      "echo \"=== Install Ruby ===\"\n",
      "sudo apt install -y ruby-full build-essential zlib1g-dev\n",
      "# \n",
      "echo \"=== Install Python ===\"\n",
      "sudo apt-get install -y python3 python3-pip python-is-python3\n",
      "#    \n",
      "echo \"=== Install Jupyter Notebook ===\"\n",
      "sudo apt-get install -y jupyter-notebook\n",
      "\n",
      "# bash commands, install user requirements.\n",
      "echo \"=== GitHub pages build tools  ===\"\n",
      "export GEM_HOME=\"$HOME/gems\"\n",
      "export PATH=\"$HOME/gems/bin:$PATH\"\n",
      "echo '# Install Ruby Gems to ~/gems' >> ~/.bashrc\n",
      "echo 'export GEM_HOME=\"$HOME/gems\"' >> ~/.bashrc\n",
      "echo 'export PATH=\"$HOME/gems/bin:$PATH\"' >> ~/.bashrc\n",
      "echo \"=== Gem install starting, thinking... ===\"\n",
      "gem install jekyll bundler\n",
      "head -30 ./teacher/scripts/activate.sh\n",
      "echo \"=== !!!Start a new Terminal!!! ===\"\n",
      "```\n",
      "\n",
      "### MacOs installation requirements \n",
      "- Ihe result of these step are MacOS tools to run preview server.  These procedures were created using [jekyllrb.com](https://jekyllrb.com/docs/installation/macos/). Run scripts in scripts directory of teacher repo: setup_macos.sh and activate_macos.sh.  Or, follow commands below.\n",
      "```bash\n",
      "# MacOS commands\n",
      "# brew install, installs packages for MacOS\n",
      "echo \"=== Ugrade Packages ===\"\n",
      "brew update\n",
      "brew upgrade\n",
      "#\n",
      "echo \"=== Install Ruby ===\"\n",
      "brew install chruby ruby-install xz\n",
      "ruby-install ruby 3.1.3\n",
      "#\n",
      "echo \"=== Install Python ===\"\n",
      "brew install python\n",
      "#    \n",
      "echo \"=== Install Jupyter Notebook ===\"\n",
      "brew install jupyter\n",
      "\n",
      "# bash commands, install user requirements.\n",
      "export GEM_HOME=\"$HOME/gems\"\n",
      "export PATH=\"$HOME/gems/bin:$PATH\"\n",
      "echo '# Install Ruby Gems to ~/gems' >> ~/.zshrc\n",
      "echo 'export GEM_HOME=\"$HOME/gems\"' >> ~/.zshrc\n",
      "echo 'export PATH=\"$HOME/gems/bin:$PATH\"' >> ~/.zshrc\n",
      "echo \"=== Gem install starting, thinking... ===\"\n",
      "gem install jekyll bundler\n",
      "head -30 ./teacher/scripts/activate.sh\n",
      "echo \"=== !!!Start a new Terminal!!! ===\"\n",
      "```\n",
      "\n",
      "### Preview\n",
      "- The result of these step is server running on: http://0.0.0.0:4100/teacher/.  Regeneration messages will run in terminal on any save.  Press the Enter or Return key in the terminal at any time to enter commands.\n",
      "\n",
      "- Complete installation\n",
      "```bash\n",
      "bundle install\n",
      "```\n",
      "- Run Server.  This requires running terminal commands `make`, `make stop`, `make clean`, or `make convert` to manage the running server.  Logging of details will appear in terminal.   A `Makefile` has been created in project to support commands and start processes.\n",
      "\n",
      "    - Start preview server in terminal\n",
      "    ```bash\n",
      "    cd ~/vscode/teacher  # my project location, adapt as necessary\n",
      "    make\n",
      "    ```\n",
      "\n",
      "    - Terminal output of shows server address. Cmd or Ctl click http location to open preview server in browser. Example Server address message... \n",
      "    ```\n",
      "    Server address: http://0.0.0.0:4100/teacher/\n",
      "    ```\n",
      "\n",
      "    - Save on ipynb or md activiates \"regeneration\". Refresh browser to see updates. Example terminal message...\n",
      "    ```\n",
      "    Regenerating: 1 file(s) changed at 2023-07-31 06:54:32\n",
      "        _notebooks/2024-01-04-cockpit-setup.ipynb\n",
      "    ```\n",
      "\n",
      "    - Terminal message are generated from background processes.  Click return or enter to obtain prompt and use terminal as needed for other tasks.  Alway return to root of project `cd ~/vscode/teacher` for all \"make\" actions. \n",
      "        \n",
      "\n",
      "    - Stop preview server, but leave constructed files in project for your review.\n",
      "    ```bash\n",
      "    make stop\n",
      "    ```\n",
      "\n",
      "    - Stop server and \"clean\" constructed files, best choice when renaming files to eliminate potential duplicates in constructed files.\n",
      "    ```bash\n",
      "    make clean\n",
      "    ```\n",
      "\n",
      "    - Test notebook conversions, best choice to see if IPYNB conversion is acting up.\n",
      "    ```bash\n",
      "    make convert\n",
      "    ```\n",
      "\n",
      "end of README.md\n"
     ]
    }
   ],
   "source": [
    "%%script bash\n",
    "\n",
    "# Extract saved variables\n",
    "source /tmp/variables.sh\n",
    "\n",
    "echo \"Navigate to project, then navigate to area wwhere files were cloned\"\n",
    "\n",
    "cd $project\n",
    "echo \"show the contents of README.md\"\n",
    "echo \"\"\n",
    "\n",
    "cat README.md  # show contents of file, in this case markdown\n",
    "echo \"\"\n",
    "echo \"end of README.md\"\n"
   ]
  },
  {
   "attachments": {},
   "cell_type": "markdown",
   "metadata": {},
   "source": [
    "### Env, Git and GitHub\n",
    "> Env(ironment) is used to capture things like path to Code or Home directory.  Git and GitHub is NOT Only used to exchange code between individuals, it is often used to exchange code through servers, in our case deployment for Website.   All tools we use have a behind the scenes hav relationship with the system they run on (MacOS, Windows, Linus) or a relationship with servers which they are connected to (ie GitHub).  There is an \"env\" command in bash.  There are environment files and setting files (.git/config) for Git.  They both use a key/value concept.\n",
    "\n",
    "- \"env\" show setting for your shell\n",
    "- \"git clone\" sets up a director of files\n",
    "- \"cd $project\" allows user to move inside that directory of files\n",
    "- \".git\" is a hidden directory that is used by git to establish relationship between machine and the git server on GitHub.  "
   ]
  },
  {
   "cell_type": "code",
   "execution_count": 12,
   "metadata": {
    "vscode": {
     "languageId": "shellscript"
    }
   },
   "outputs": [
    {
     "name": "stdout",
     "output_type": "stream",
     "text": [
      "bash: fg: %%script: no such job\n"
     ]
    },
    {
     "name": "stdout",
     "output_type": "stream",
     "text": [
      "Show the shell environment variables, key on left of equal value on right\n",
      "\n",
      "SHELL=/bin/bash\n",
      "PYTHONUNBUFFERED=1\n",
      "WSL2_GUI_APPS_ENABLED=1\n",
      "project=/home/dragoon/vscode/getsums\n",
      "CONDA_EXE=/home/dragoon/anaconda3/bin/conda\n",
      "_CE_M=\n",
      "APPLICATION_INSIGHTS_NO_DIAGNOSTIC_CHANNEL=1\n",
      "WSL_DISTRO_NAME=Ubuntu\n",
      "ELECTRON_RUN_AS_NODE=1\n",
      "VSCODE_AMD_ENTRYPOINT=vs/workbench/api/node/extensionHostProcess\n",
      "NAME=Code\n",
      "PWD=/home/dragoon/vscode/getsums\n",
      "LOGNAME=dragoon\n",
      "CONDA_PREFIX=/home/dragoon/anaconda3\n",
      "MOTD_SHOWN=update-motd\n",
      "NOTEBOOK_BASH_KERNEL_CAPABILITIES=image,html,javascript\n",
      "project_dir=/home/dragoon/vscode\n",
      "HOME=/home/dragoon\n",
      "LANG=C.UTF-8\n",
      "WSL_INTEROP=/run/WSL/89_interop\n",
      "LS_COLORS=rs=0:di=01;34:ln=01;36:mh=00:pi=40;33:so=01;35:do=01;35:bd=40;33;01:cd=40;33;01:or=40;31;01:mi=00:su=37;41:sg=30;43:ca=30;41:tw=30;42:ow=34;42:st=37;44:ex=01;32:*.tar=01;31:*.tgz=01;31:*.arc=01;31:*.arj=01;31:*.taz=01;31:*.lha=01;31:*.lz4=01;31:*.lzh=01;31:*.lzma=01;31:*.tlz=01;31:*.txz=01;31:*.tzo=01;31:*.t7z=01;31:*.zip=01;31:*.z=01;31:*.dz=01;31:*.gz=01;31:*.lrz=01;31:*.lz=01;31:*.lzo=01;31:*.xz=01;31:*.zst=01;31:*.tzst=01;31:*.bz2=01;31:*.bz=01;31:*.tbz=01;31:*.tbz2=01;31:*.tz=01;31:*.deb=01;31:*.rpm=01;31:*.jar=01;31:*.war=01;31:*.ear=01;31:*.sar=01;31:*.rar=01;31:*.alz=01;31:*.ace=01;31:*.zoo=01;31:*.cpio=01;31:*.7z=01;31:*.rz=01;31:*.cab=01;31:*.wim=01;31:*.swm=01;31:*.dwm=01;31:*.esd=01;31:*.jpg=01;35:*.jpeg=01;35:*.mjpg=01;35:*.mjpeg=01;35:*.gif=01;35:*.bmp=01;35:*.pbm=01;35:*.pgm=01;35:*.ppm=01;35:*.tga=01;35:*.xbm=01;35:*.xpm=01;35:*.tif=01;35:*.tiff=01;35:*.png=01;35:*.svg=01;35:*.svgz=01;35:*.mng=01;35:*.pcx=01;35:*.mov=01;35:*.mpg=01;35:*.mpeg=01;35:*.m2v=01;35:*.mkv=01;35:*.webm=01;35:*.webp=01;35:*.ogm=01;35:*.mp4=01;35:*.m4v=01;35:*.mp4v=01;35:*.vob=01;35:*.qt=01;35:*.nuv=01;35:*.wmv=01;35:*.asf=01;35:*.rm=01;35:*.rmvb=01;35:*.flc=01;35:*.avi=01;35:*.fli=01;35:*.flv=01;35:*.gl=01;35:*.dl=01;35:*.xcf=01;35:*.xwd=01;35:*.yuv=01;35:*.cgm=01;35:*.emf=01;35:*.ogv=01;35:*.ogx=01;35:*.aac=00;36:*.au=00;36:*.flac=00;36:*.m4a=00;36:*.mid=00;36:*.midi=00;36:*.mka=00;36:*.mp3=00;36:*.mpc=00;36:*.ogg=00;36:*.ra=00;36:*.wav=00;36:*.oga=00;36:*.opus=00;36:*.spx=00;36:*.xspf=00;36:\n",
      "WAYLAND_DISPLAY=wayland-0\n",
      "CONDA_PROMPT_MODIFIER=(base) \n",
      "PYDEVD_USE_FRAME_EVAL=NO\n",
      "VSCODE_L10N_BUNDLE_LOCATION=\n",
      "posts=/home/dragoon/vscode/getsums/_posts\n",
      "GEM_HOME=/home/dragoon/gems\n",
      "LESSCLOSE=/usr/bin/lesspipe %s %s\n",
      "VSCODE_HANDLES_SIGPIPE=true\n",
      "TERM=xterm-256color\n",
      "_CE_CONDA=\n",
      "LESSOPEN=| /usr/bin/lesspipe %s\n",
      "USER=dragoon\n",
      "PYTHONIOENCODING=utf-8\n",
      "notebooks=/home/dragoon/vscode/getsums/_notebooks\n",
      "CONDA_SHLVL=1\n",
      "DISPLAY=:0\n",
      "SHLVL=2\n",
      "PAGER=cat\n",
      "project_repo=https://github.com/Jyustin/getsums.git\n",
      "VSCODE_CWD=/mnt/c/Users/super/AppData/Local/Programs/Microsoft VS Code\n",
      "CONDA_PYTHON_EXE=/home/dragoon/anaconda3/bin/python\n",
      "XDG_RUNTIME_DIR=/mnt/wslg/runtime-dir\n",
      "PS1=[PEXP\\[\\]ECT_PROMPT>\n",
      "CONDA_DEFAULT_ENV=base\n",
      "WSLENV=ELECTRON_RUN_AS_NODE/w:\n",
      "\n",
      "VSCODE_WSL_EXT_LOCATION=/mnt/c/Users/super/.vscode/extensions/ms-vscode-remote.remote-wsl-0.81.0\n",
      "XDG_DATA_DIRS=/usr/local/share:/usr/share:/var/lib/snapd/desktop\n",
      "PATH=/home/dragoon/gems/bin:/home/dragoon/gems/bin:/home/dragoon/gems/bin:/home/dragoon/gems/bin:/home/dragoon/.local/bin:/home/dragoon/gems/bin:/home/dragoon/gems/bin:/home/dragoon/gems/bin:/home/dragoon/gems/bin:/home/dragoon/anaconda3/bin:/home/dragoon/anaconda3/condabin:/usr/local/sbin:/usr/local/bin:/usr/sbin:/usr/bin:/sbin:/bin:/usr/games:/usr/local/games:/usr/lib/wsl/lib:/mnt/c/Windows/system32:/mnt/c/Windows:/mnt/c/Windows/System32/Wbem:/mnt/c/Windows/System32/WindowsPowerShell/v1.0:/mnt/c/Windows/System32/OpenSSH:/mnt/c/Program Files/dotnet:/mnt/c/Users/super/AppData/Local/Microsoft/WindowsApps:/mnt/c/Users/super/AppData/Local/Programs/Microsoft VS Code/bin:/snap/bin\n",
      "VSCODE_NLS_CONFIG={\"locale\":\"en\",\"osLocale\":\"en\",\"availableLanguages\":{}}\n",
      "HOSTTYPE=x86_64\n",
      "PULSE_SERVER=unix:/mnt/wslg/PulseServer\n",
      "VSCODE_HANDLES_UNCAUGHT_ERRORS=true\n",
      "OLDPWD=/home/dragoon/vscode/getsums/_notebooks\n",
      "VSCODE_IPC_HOOK_CLI=/mnt/wslg/runtime-dir/vscode-ipc-5e712b19-38af-4119-89da-752d362c73cd.sock\n",
      "_=/usr/bin/env\n"
     ]
    }
   ],
   "source": [
    "%%script bash\n",
    "\n",
    "# This command has no dependencies\n",
    "\n",
    "echo \"Show the shell environment variables, key on left of equal value on right\"\n",
    "echo \"\"\n",
    "\n",
    "env"
   ]
  },
  {
   "cell_type": "code",
   "execution_count": 13,
   "metadata": {
    "vscode": {
     "languageId": "shellscript"
    }
   },
   "outputs": [
    {
     "name": "stdout",
     "output_type": "stream",
     "text": [
      "bash: fg: %%script: no such job\n"
     ]
    },
    {
     "name": "stdout",
     "output_type": "stream",
     "text": [
      "\n",
      "show the secrets of .git\n",
      "total 52\n",
      "-rw-r--r-- 1 dragoon dragoon   21 Aug 23 17:37 HEAD\n",
      "drwxr-xr-x 2 dragoon dragoon 4096 Aug 23 17:37 \u001b[0m\u001b[01;34mbranches\u001b[0m\n",
      "-rw-r--r-- 1 dragoon dragoon  259 Aug 23 17:37 config\n",
      "-rw-r--r-- 1 dragoon dragoon   73 Aug 23 17:37 description\n",
      "drwxr-xr-x 2 dragoon dragoon 4096 Aug 23 17:37 \u001b[01;34mhooks\u001b[0m\n",
      "-rw-r--r-- 1 dragoon dragoon 8444 Aug 23 17:37 index\n",
      "drwxr-xr-x 2 dragoon dragoon 4096 Aug 23 17:37 \u001b[01;34minfo\u001b[0m\n",
      "drwxr-xr-x 3 dragoon dragoon 4096 Aug 23 17:37 \u001b[01;34mlogs\u001b[0m\n",
      "drwxr-xr-x 4 dragoon dragoon 4096 Aug 23 17:37 \u001b[01;34mobjects\u001b[0m\n",
      "-rw-r--r-- 1 dragoon dragoon  112 Aug 23 17:37 packed-refs\n",
      "drwxr-xr-x 5 dragoon dragoon 4096 Aug 23 17:37 \u001b[01;34mrefs\u001b[0m\n",
      "\n",
      "look at config file\n",
      "[core]\n",
      "\trepositoryformatversion = 0\n",
      "\tfilemode = true\n",
      "\tbare = false\n",
      "\tlogallrefupdates = true\n",
      "[remote \"origin\"]\n",
      "\turl = https://github.com/Jyustin/getsums.git\n",
      "\tfetch = +refs/heads/*:refs/remotes/origin/*\n",
      "[branch \"main\"]\n",
      "\tremote = origin\n",
      "\tmerge = refs/heads/main\n"
     ]
    }
   ],
   "source": [
    "%%script bash\n",
    "\n",
    "# Extract saved variables\n",
    "source /tmp/variables.sh\n",
    "\n",
    "cd $project\n",
    "\n",
    "echo \"\"\n",
    "echo \"show the secrets of .git\"\n",
    "cd .git\n",
    "ls -l\n",
    "\n",
    "echo \"\"\n",
    "echo \"look at config file\"\n",
    "cat config"
   ]
  },
  {
   "attachments": {},
   "cell_type": "markdown",
   "metadata": {},
   "source": [
    "### Student Request - Make a file in Bash\n",
    "> This example was requested by a student (Jun Lim, CSA). The request was to make jupyer file using bash, I adapted the request to markdown.  This type of thought will have great extrapolation to coding and possibilities of using List, Arrays, or APIs to build user interfaces.  JavaScript is a language where building HTML is very common.\n",
    "\n",
    "> To get more interesting output from terminal, this will require using something like mdless (https://github.com/ttscoff/mdless).  This enables see markdown in rendered format.\n",
    "- On Desktop [Install PKG from MacPorts](https://www.macports.org/install.php)\n",
    "- In Terminal on MacOS\n",
    "    - [Install ncurses](https://ports.macports.org/port/ncurses/)\n",
    "    - ```gem install mdless```\n",
    "    \n",
    "> Output of the example is much nicer in \"jupyter\""
   ]
  },
  {
   "cell_type": "code",
   "execution_count": 53,
   "metadata": {
    "vscode": {
     "languageId": "shellscript"
    }
   },
   "outputs": [
    {
     "name": "stdout",
     "output_type": "stream",
     "text": [
      "\n",
      "File listing and status\n",
      "-rw-r--r--  1 johnmortensen  wheel  809 Jun 11 10:43 sample.md\n",
      "      15     132     809 sample.md\n",
      "\n",
      "\u001b[0m\u001b[0;1;47;90mShow Generated Markdown \u001b[0;2;30;47m========================================================\u001b[0m\n",
      "\n",
      "This introductory paragraph and this line and the title above are generated\n",
      "using tee with the standard input (<<) redirection operator.\n",
      "\u001b[0;1;91m- \u001b[0;1;91m\u001b[0;97mThis \u001b[0;97mbulleted \u001b[0;97melement \u001b[0;97mis \u001b[0;97mstill \u001b[0;97mpart \u001b[0;97mof \u001b[0;97mthe \u001b[0;97mtee \u001b[0;97mbody.\n",
      "\u001b[0;1;91m- \u001b[0;1;91m\u001b[0;97mThis \u001b[0;97mbulleted \u001b[0;97melement \u001b[0;97mand \u001b[0;97mlines \u001b[0;97mbelow \u001b[0;97mare \u001b[0;97mgenerated \u001b[0;97musing \u001b[0;97mecho \u001b[0;97mwith \u001b[0;97mstandard\n",
      "\u001b[0;97moutput \u001b[0;97m(>>) \u001b[0;97mredirection \u001b[0;97moperator.\n",
      "\u001b[0;1;91m- \u001b[0;1;91m\u001b[0;97mThe \u001b[0;97mlist \u001b[0;97mdefinition, \u001b[0;97mas \u001b[0;97mis, \u001b[0;97mis \u001b[0;97musing \u001b[0;97mspace \u001b[0;97mto \u001b[0;97mseperate \u001b[0;97mlines. \u001b[0;97mThus \u001b[0;97mthe \u001b[0;97muse \u001b[0;97mof\n",
      "\u001b[0;97mcommas \u001b[0;97mand \u001b[0;97mhyphens \u001b[0;97min \u001b[0;97moutput.\n",
      "      \u001b[0;1;91m- \u001b[0;1;91m\u001b[0;97mls: \u001b[0;97mlist \u001b[0;97mdirectory\n",
      "      \u001b[0;1;91m- \u001b[0;1;91m\u001b[0;97mcd: \u001b[0;97mchange \u001b[0;97mdirectory\n",
      "      \u001b[0;1;91m- \u001b[0;1;91m\u001b[0;97mpwd: \u001b[0;97mpresent \u001b[0;97mworking \u001b[0;97mdirectory\n",
      "      \u001b[0;1;91m- \u001b[0;1;91m\u001b[0;97mif \u001b[0;97mthen \u001b[0;97mfi: \u001b[0;97mtest \u001b[0;97mcondition\n",
      "      \u001b[0;1;91m- \u001b[0;1;91m\u001b[0;97menv: \u001b[0;97mbash \u001b[0;97menvironment \u001b[0;97mvariables\n",
      "      \u001b[0;1;91m- \u001b[0;1;91m\u001b[0;97mcat: \u001b[0;97mview \u001b[0;97mfile \u001b[0;97mcontents\n",
      "      \u001b[0;1;91m- \u001b[0;1;91m\u001b[0;97mtee: \u001b[0;97mwrite \u001b[0;97mto \u001b[0;97moutput\n",
      "      \u001b[0;1;91m- \u001b[0;1;91m\u001b[0;97mecho: \u001b[0;97mdisplay \u001b[0;97mcontent \u001b[0;97mof \u001b[0;97mstring\n",
      "      \u001b[0;1;91m- \u001b[0;1;91m\u001b[0;97mecho \u001b[0;97m\"sample \u001b[0;97mtext\" \u001b[0;97m>$file: \u001b[0;97mwrite \u001b[0;97mcontent \u001b[0;97mto \u001b[0;97mfile\n",
      "      \u001b[0;1;91m- \u001b[0;1;91m\u001b[0;97mecho \u001b[0;97m\"sample \u001b[0;97mtext\" \u001b[0;97m>>$file: \u001b[0;97mappend \u001b[0;97mcontent \u001b[0;97mto \u001b[0;97mfile\n",
      "\n",
      "\u001b[0m"
     ]
    }
   ],
   "source": [
    "%%script bash\n",
    "\n",
    "# This example has error in VSCode, it run best on Jupyter\n",
    "cd /tmp\n",
    "\n",
    "file=\"sample.md\"\n",
    "if [ -f \"$file\" ]; then\n",
    "    rm $file\n",
    "fi\n",
    "\n",
    "tee -a $file >/dev/null <<EOF\n",
    "# Show Generated Markdown\n",
    "This introductory paragraph and this line and the title above are generated using tee with the standard input (<<) redirection operator.\n",
    "- This bulleted element is still part of the tee body.\n",
    "EOF\n",
    "\n",
    "echo \"- This bulleted element and lines below are generated using echo with standard output (>>) redirection operator.\" >> $file\n",
    "echo \"- The list definition, as is, is using space to seperate lines.  Thus the use of commas and hyphens in output.\" >> $file\n",
    "actions=(\"ls,list-directory\" \"cd,change-directory\" \"pwd,present-working-directory\" \"if-then-fi,test-condition\" \"env,bash-environment-variables\" \"cat,view-file-contents\" \"tee,write-to-output\" \"echo,display-content-of-string\" \"echo_text_>\\$file,write-content-to-file\" \"echo_text_>>\\$file,append-content-to-file\")\n",
    "for action in ${actions[@]}; do  # for loop is very similar to other language, though [@], semi-colon, do are new\n",
    "  action=${action//-/ }  # convert dash to space\n",
    "  action=${action//,/: } # convert comma to colon\n",
    "  action=${action//_text_/ \\\"sample text\\\" } # convert _text_ to sample text, note escape character \\ to avoid \"\" having meaning\n",
    "  echo \"    - ${action//-/ }\" >> $file  # echo is redirected to file with >>\n",
    "done\n",
    "\n",
    "echo \"\"\n",
    "echo \"File listing and status\"\n",
    "ls -l $file # list file\n",
    "wc $file   # show words\n",
    "mdless $file  # this requires installation, but renders markown from terminal\n",
    "\n",
    "rm $file  # clean up termporary file"
   ]
  },
  {
   "attachments": {},
   "cell_type": "markdown",
   "metadata": {},
   "source": [
    "## Hack Preparation.\n",
    "> Review Tool Setup Procedures and think about some thing you could verify through a Shell notebook.\n",
    "- Come up with your own student view of this procedure to show your tools are installed.\n",
    "- Name and create notes on some Linux commands you will use frequently.\n",
    "- Is there anything we use to verify tools we install? Review versions checks.\n",
    "- Is there anything we could verify with Anaconda?  or WSL?  \n",
    "- How would you update a repository?  Could you do that in script above?\n"
   ]
  },
  {
   "cell_type": "markdown",
   "metadata": {},
   "source": [
    "# Hacks???"
   ]
  },
  {
   "cell_type": "code",
   "execution_count": 20,
   "metadata": {
    "vscode": {
     "languageId": "shellscript"
    }
   },
   "outputs": [],
   "source": [
    "if ! [ -x \"$(command -v git)\" ]; then\n",
    "  echo 'Error: git is not installed.' >&2\n",
    "  exit 1\n",
    "fi"
   ]
  },
  {
   "cell_type": "markdown",
   "metadata": {},
   "source": [
    "\n",
    "\n",
    "I found this cool piece of code on stack overflow that can verify if something is installed, so I could use something like this to verify I have something\n",
    "installed. \n",
    "\n",
    "I use ls to list out items often if I want to check if something exists or is installed, and use rm a little bit if I want to remove something and reinstall it. \n",
    "\n",
    "you can technically update a repository by using the top command to clone the latest version into vscode, but I would rather use git pull. \n",
    "\n"
   ]
  }
 ],
 "metadata": {
  "kernelspec": {
   "display_name": "Bash",
   "language": "bash",
   "name": "bash"
  },
  "language_info": {
   "codemirror_mode": "shell",
   "file_extension": ".sh",
   "mimetype": "text/x-sh",
   "name": "bash"
  },
  "vscode": {
   "interpreter": {
    "hash": "aee8b7b246df8f9039afb4144a1f6fd8d2ca17a180786b69acc140d282b71a49"
   }
  }
 },
 "nbformat": 4,
 "nbformat_minor": 2
}
