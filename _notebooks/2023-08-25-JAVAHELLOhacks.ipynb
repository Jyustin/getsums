{
 "cells": [
  {
   "cell_type": "markdown",
   "metadata": {},
   "source": [
    "---\n",
    "layout: post\n",
    "title: JAVA fundamentals AND JAVA HELLO HACKS\n",
    "description: Java fundamentals learning \n",
    "type: hacks\n",
    "courses: {'csse': {'week': 1}, 'csp': {'week': 1}, 'csa': {'week': 1}}\n",
    "categories: [C4.1]\n",
    "---"
   ]
  },
  {
   "cell_type": "markdown",
   "metadata": {},
   "source": [
    "# Anatomy of a class "
   ]
  },
  {
   "cell_type": "code",
   "execution_count": 19,
   "metadata": {
    "vscode": {
     "languageId": "java"
    }
   },
   "outputs": [
    {
     "name": "stdout",
     "output_type": "stream",
     "text": [
      "Name: Sam Fisher\n",
      "Color: Green\n",
      "Language English\n",
      "Name: Kiryu Kazuma\n",
      "Color: Red\n",
      "Language Japanese\n",
      "Enter new ame for dog 1:"
     ]
    },
    {
     "name": "stdout",
     "output_type": "stream",
     "text": [
      "Name: blues\n",
      "Color: Green\n",
      "Language English\n"
     ]
    }
   ],
   "source": [
    "import java.util.Scanner;  \n",
    "\n",
    "public class Dog {    //class is the blueprint, we use it to make objects, from class\n",
    "\n",
    "    // In between brackets we define body of class, NEED what comments say\n",
    "\n",
    "    // instance variables, WE ARE defining the attributes instances(objects) will have\n",
    "\n",
    "    private String name;\n",
    "    private String color;\n",
    "    private String language;\n",
    "\n",
    "\n",
    "    // constructors, WE use this to help build our object, FROM OUR instance variables\n",
    "    public Dog(String initName, String initColor, String initLanguage) // can also be known as \"setters\"\n",
    "    {\n",
    "        this.name = initName;\n",
    "        this.color = initColor;\n",
    "        this.language = initLanguage;\n",
    "    }\n",
    "\n",
    "    public void setName(String name) { // ACTUAL setter method\n",
    "        this.name = name;\n",
    "    }\n",
    "\n",
    "    // methods, THESE DEFINE what we do with our objects. PUBLIC methods can \n",
    "    //be called outside of class, private cannot.\n",
    "\n",
    "    public void print() //getters to access our objects\n",
    "    // This method will be used to see our objects,\n",
    "    //VOID means that the method returns nothing but has meaningless effect\n",
    "    //like printing to screen \n",
    "    {\n",
    "        System.out.println(\"Name: \" + name);\n",
    "        System.out.println(\"Color: \" + color);\n",
    "        System.out.println(\"Language \" + language);\n",
    "    }\n",
    "\n",
    "\n",
    "    public static void main(String[] args) \n",
    "    {\n",
    "        //This other method we will use for making dogs and using print method\n",
    "\n",
    "        // calling our constructor to create our \"dog\" objects\n",
    "        Scanner scanner = new Scanner(System.in);  \n",
    "        Dog d1 = new Dog(\"Sam Fisher\", \"Green\", \"English\"); \n",
    "        //calling print method\n",
    "        d1.print();\n",
    "        Dog d2 = new Dog(\"Kiryu Kazuma\", \"Red\", \"Japanese\");\n",
    "        d2.print();\n",
    "        System.out.print(\"Enter new ame for dog 1:\");  \n",
    "        String name = scanner.nextLine();\n",
    "        d1.setName(name);\n",
    "\n",
    "\n",
    "        d1.print();\n",
    "    }\n",
    "}\n",
    "\n",
    "Dog.main(null); // activate the code"
   ]
  },
  {
   "cell_type": "markdown",
   "metadata": {},
   "source": [
    "# important information\n",
    "\n",
    "\"In general and definitely on the AP CSA exam, instance variables should be declared private. Think of private as like your diary. Only you should have direct access to it. Similarly, in Java a private instance variable can only be accessed by code in the class that declares the variable.\""
   ]
  }
 ],
 "metadata": {
  "kernelspec": {
   "display_name": "Java",
   "language": "java",
   "name": "java"
  },
  "language_info": {
   "codemirror_mode": "java",
   "file_extension": ".jshell",
   "mimetype": "text/x-java-source",
   "name": "Java",
   "pygments_lexer": "java",
   "version": "11.0.20+8-post-Ubuntu-1ubuntu122.04"
  },
  "orig_nbformat": 4
 },
 "nbformat": 4,
 "nbformat_minor": 2
}
