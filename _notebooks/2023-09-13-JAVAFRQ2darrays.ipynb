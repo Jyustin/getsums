{
 "cells": [
  {
   "cell_type": "markdown",
   "metadata": {},
   "source": [
    "---\n",
    "layout: post\n",
    "title: JAVA FRQs. On 2D Arrays\n",
    "description: Help you solve 2d array java problems\n",
    "type: hacks\n",
    "courses: {'csa': {'week': 4}}\n",
    "categories: [C4.1]\n",
    "---"
   ]
  },
  {
   "cell_type": "markdown",
   "metadata": {},
   "source": [
    "# changing or adding data for arrays"
   ]
  },
  {
   "cell_type": "code",
   "execution_count": 16,
   "metadata": {},
   "outputs": [
    {
     "name": "stdout",
     "output_type": "stream",
     "text": [
      "[1, 2, 10, 4, 5, 6]\n"
     ]
    }
   ],
   "source": [
    "// Arrays\n",
    "public class arrayTests {\n",
    "    // Java standard runtime entry point\n",
    "    public static void main(String[] args) {    \n",
    "        // Initialize an array\n",
    "int[] myArray = {1, 2, 3, 4, 5};\n",
    "\n",
    "// Change the value at a specific index (e.g., index 2)\n",
    "myArray[2] = 10;\n",
    "\n",
    "// Add a new element at the end of the array\n",
    "int newValue = 6;\n",
    "myArray = Arrays.copyOf(myArray, myArray.length + 1);\n",
    "myArray[myArray.length - 1] = newValue;\n",
    "System.out.println(Arrays.toString(myArray)); // Print the array\n",
    "\n",
    "    }\n",
    "}\n",
    "// A method call allows us to execute code that is wrapped in Class\n",
    "\n",
    "arrayTests.main(null);   // Class prefix allows reference of Static Method"
   ]
  },
  {
   "cell_type": "markdown",
   "metadata": {},
   "source": [
    "# using arraylists"
   ]
  },
  {
   "cell_type": "code",
   "execution_count": 17,
   "metadata": {},
   "outputs": [
    {
     "name": "stdout",
     "output_type": "stream",
     "text": [
      "[1, 2, 10, 4, 5, 6]\n"
     ]
    }
   ],
   "source": [
    "\n",
    "public class arrayListinfo { // Initialize an ArrayList\n",
    "\n",
    "public static void main(String[] args) {\n",
    "    \n",
    "ArrayList<Integer> myList = new ArrayList<>(Arrays.asList(1, 2, 3, 4, 5));\n",
    "\n",
    "// Change the value at a specific index (e.g., index 2)\n",
    "myList.set(2, 10);\n",
    "\n",
    "// Add a new element at the end of the ArrayList\n",
    "int newValue = 6;\n",
    "myList.add(newValue);\n",
    "\n",
    "System.out.println(myList); // Print the ArrayList\n",
    "\n",
    "}}\n",
    "arrayListinfo.main(null);"
   ]
  },
  {
   "cell_type": "markdown",
   "metadata": {},
   "source": [
    "# 2D arrays"
   ]
  },
  {
   "cell_type": "code",
   "execution_count": 18,
   "metadata": {},
   "outputs": [
    {
     "name": "stdout",
     "output_type": "stream",
     "text": [
      "1\t4\t7\t\n",
      "2\t5\t8\t\n",
      "3\t6\t9\t\n"
     ]
    }
   ],
   "source": [
    "public class Arraysin2d {\n",
    "    \n",
    "    public static void main(String[] args) {\n",
    "        int[][] myArray = {\n",
    "    {1, 2, 3},\n",
    "    {4, 5, 6},\n",
    "    {7, 8, 9}\n",
    "    };\n",
    "    \n",
    "    for (int col = 0; col < myArray[0].length; col++) {\n",
    "        for (int row = 0; row < myArray.length; row++) {\n",
    "            System.out.print(myArray[row][col] + \"\\t\");\n",
    "            }\n",
    "            System.out.println(); // Move to the next column\n",
    "}\n",
    "\n",
    "}\n",
    "}\n",
    "Arraysin2d.main(null);"
   ]
  },
  {
   "cell_type": "markdown",
   "metadata": {},
   "source": [
    "# FRQS\n",
    "\n",
    "[2022 FRQS](https://apcentral.collegeboard.org/media/pdf/ap22-frq-computer-science-a.pdf)\n",
    "\n",
    "[2022 FRQ ANSWERS](https://apcentral.collegeboard.org/media/pdf/ap22-sg-computer-science-a.pdf)\n",
    "\n",
    "\n",
    "## question 4 FRQ from 2022 exam"
   ]
  },
  {
   "cell_type": "code",
   "execution_count": null,
   "metadata": {},
   "outputs": [],
   "source": [
    "public class data {\n",
    "    public static final int MAX = 12 /*change to appropriate value*/;\n",
    "    private int grid [][];\n",
    "    \n",
    "    public void repopulate(){\n",
    "\n",
    "        /* write this in part a */\n",
    "    \n",
    "        /* return number of columns in grid that are in increasing order, as described in part b*/\n",
    "    }\n",
    "\n",
    "    public int countIncreasingCols(){ /* to be implemented in part b */}\n",
    "    // there may be instances, variables, constructors, and methods not shown\n",
    "}\n"
   ]
  },
  {
   "cell_type": "markdown",
   "metadata": {},
   "source": [
    "(a): write the repopulate method, which assigns a newly generated random value to each element of grid. each value is to \n",
    "meet all of the following criteria, and all values must have an equal chance of being generated:\n",
    "\n",
    "    - the value is between 0 and MAX (inclusive)\n",
    "    - the value is divisible by 10\n",
    "    - the value is not divisible by 100\n",
    "\n",
    "Complete the repopulate method.\n",
    "\n",
    "\n",
    "# ANSWER"
   ]
  },
  {
   "cell_type": "code",
   "execution_count": null,
   "metadata": {},
   "outputs": [],
   "source": [
    "/**\n",
    " * Fills all elements of a grid with randomly generated values, as described in part (a).\n",
    " * PRECONDITION: grid is not null. grid has at least 1 element.\n",
    " */\n",
    "public void repopulate() {\n",
    "\n",
    "    // Loop through each row of the grid\n",
    "    for (int row = 0; row < grid.length; row++) { \n",
    "\n",
    "        // Loop through each column of the grid\n",
    "        for (int col = 0; col < grid[0].length; col++) {\n",
    "\n",
    "            // Generate a random integer value between 1 and MAX (inclusive)\n",
    "            int rval = (int)(Math.random() * MAX) + 1;\n",
    "\n",
    "            // Ensure that rval is a multiple of 10 and not a multiple of 100\n",
    "            while (rval % 10 != 0 || rval % 100 == 0) {\n",
    "\n",
    "                // If rval doesn't meet the criteria, generate a new random value\n",
    "                rval = (int)(Math.random() * MAX) + 1;\n",
    "\n",
    "            }\n",
    "\n",
    "            // Set the generated random value in the current grid element\n",
    "            grid[row][col] = rval;\n",
    "        }\n",
    "    }\n",
    "}"
   ]
  },
  {
   "cell_type": "markdown",
   "metadata": {},
   "source": [
    "# EXPLANATION\n",
    "\n",
    "1. the response recieves a point for traversing the grid with the for loops that iterates through rows and columns\n",
    "2. the response recieves a point for generating a random integer in range based on MAX \n",
    "3. the response recieves a point for ensuring the random integer is divisible by 10 but not by 100\n",
    "4. the response recieves a point for assigning the values to the grid (2d array)\n",
    "\n",
    "4 TOTAL POINTS OBTAINABLE IN SECTION A\n",
    "\n",
    "# PART B\n",
    "\n",
    "(b): Write the count IncreasingCols method, which returns the number of columns in grid that are in increasing order. A column is considered to be in increasing order if the element in each row after the first row is greater than or equal to the element in the previous row. A column with only one row is considered to be in increasing order.\n",
    "\n",
    "The following examples show the count Increasing Cols return values for possible contents of grid.\n",
    "\n",
    "The return value for the following contents of grid is 1, since the first column is in increasing order but the second and third columns are not.\n",
    "10 50 40\n",
    "20 40 20\n",
    "30 50 30\n",
    "\n",
    "\n",
    "The return value for the following contents of grid is 2, since the first and third columns are in increasing order but the second and fourth columns are not.\n",
    "\n",
    "10 540 440 440\n",
    "220 450 440 190\n",
    "\n",
    "\n",
    "Complete the count IncreasingCols method.\n"
   ]
  },
  {
   "cell_type": "code",
   "execution_count": null,
   "metadata": {},
   "outputs": [],
   "source": [
    "public int countIncreasingCols() {\n",
    "    // Initialize a counter to keep track of the number of increasing columns.\n",
    "    int count = 0;\n",
    "\n",
    "    // Loop through each column of the grid.\n",
    "    for (int col = 0; col < grid[0].length; col++) \n",
    "    {\n",
    "        // Assume that the current column is ordered until proven otherwise.\n",
    "        boolean ordered = true;\n",
    "\n",
    "        // Loop through each row in the current column starting from the second row (row 1).\n",
    "        for (int row = 1; row < grid.length; row++) {\n",
    "            // Check if the current element is less than the element in the previous row\n",
    "            // in the same column. If so, the column is not ordered.\n",
    "            if (grid[row][col] < grid[row - 1][col]) \n",
    "            {\n",
    "                ordered = false;\n",
    "            }\n",
    "        }\n",
    "\n",
    "        // If the 'ordered' flag is still true after checking all rows in the column,\n",
    "        // it means the column is in increasing order, so increment the count.\n",
    "        if (ordered) \n",
    "        {\n",
    "            count++;\n",
    "        }\n",
    "    }\n",
    "\n",
    "    // Return the count of columns that are in increasing order.\n",
    "    return count;\n",
    "}\n"
   ]
  },
  {
   "cell_type": "markdown",
   "metadata": {},
   "source": [
    "# completed code"
   ]
  },
  {
   "cell_type": "code",
   "execution_count": null,
   "metadata": {},
   "outputs": [],
   "source": [
    "public class data {\n",
    "    public static final int MAX = 12 /*change to appropriate value*/;\n",
    "    private int grid [][];\n",
    "    \n",
    "    public void repopulate() {\n",
    "\n",
    "        for int(row = 0; row < grid.length; row++) {\n",
    "    \n",
    "          for (int col = 0; col < grid[0].length; col++) {\n",
    "    \n",
    "             int rval = (int)(math.random() * MAX) + 1;\n",
    "    \n",
    "             while (rval % 10 != 0 || rval % 100 == 0) {\n",
    "    \n",
    "                rval = (int)(math.random() * MAX) + 1;\n",
    "    \n",
    "             }\n",
    "             grid[row][col] = rval;\n",
    "          }\n",
    "        }\n",
    "     }\n",
    "    \n",
    "\n",
    "     public int count IncreasingCols() {\n",
    "\n",
    "      int count = 0;\n",
    "  \n",
    "  for (int col = 0; col < grid[0].length; col++)\n",
    "  {\n",
    "      boolean ordered = true;\n",
    "      \n",
    "      for (int row = 1; row < grid.length; row++)\n",
    "      \n",
    "      {\n",
    "          if (grid[row][col] < grid[row-1][col])\n",
    "          \n",
    "          {\n",
    "              ordered = false;\n",
    "          }\n",
    "      }\n",
    "      if (ordered)\n",
    "      {\n",
    "          \n",
    "          count++;\n",
    "      }\n",
    "  }\n",
    "  return count;\n",
    "  }\n",
    "}\n",
    "\n"
   ]
  },
  {
   "cell_type": "markdown",
   "metadata": {},
   "source": [
    "# completed code but it actually runs"
   ]
  },
  {
   "cell_type": "code",
   "execution_count": 1,
   "metadata": {},
   "outputs": [
    {
     "name": "stdout",
     "output_type": "stream",
     "text": [
      "30 710 570 160 \n",
      "980 690 260 160 \n",
      "480 720 450 610 \n",
      "Number of columns with increasing values: 1\n"
     ]
    }
   ],
   "source": [
    "import java.util.Random; // Import the Random class for random number generation\n",
    "\n",
    "public class Data {\n",
    "    public static final int MAX = 1000; // Change to the appropriate value (maximum random number)\n",
    "    private int[][] grid; // Declare a 2D array for the grid\n",
    "\n",
    "    // Constructor to initialize the grid\n",
    "    public Data(int rows, int cols) {\n",
    "        grid = new int[rows][cols];\n",
    "    }\n",
    "\n",
    "    // Method to repopulate the grid with random numbers\n",
    "    public void repopulate() {\n",
    "        Random rand = new Random(); // Create a Random object for random number generation\n",
    "\n",
    "        for (int row = 0; row < grid.length; row++) {\n",
    "            for (int col = 0; col < grid[0].length; col++) {\n",
    "                int rval;\n",
    "\n",
    "                do {\n",
    "                    rval = rand.nextInt(MAX) + 1; // Generate a random number between 1 and MAX\n",
    "                } while (rval % 10 != 0 || rval % 100 == 0); //uses modulus (%) to eensure number is divisible by 10 but not by 100\n",
    "\n",
    "                grid[row][col] = rval;\n",
    "            }\n",
    "        }\n",
    "    }\n",
    "\n",
    "    // Method to count columns with increasing values\n",
    "    public int countIncreasingCols() {\n",
    "        int count = 0;\n",
    "\n",
    "        for (int col = 0; col < grid[0].length; col++) {\n",
    "            boolean ordered = true;\n",
    "\n",
    "            for (int row = 1; row < grid.length; row++) {\n",
    "                if (grid[row][col] < grid[row - 1][col]) {\n",
    "                    ordered = false;\n",
    "                    break; // Optimization: No need to check further if not ordered\n",
    "                }\n",
    "            }\n",
    "\n",
    "            if (ordered) {\n",
    "                count++;\n",
    "            }\n",
    "        }\n",
    "\n",
    "        return count;\n",
    "    }\n",
    "\n",
    "    public static void main(String[] args) {\n",
    "        // Example usage of the Data class\n",
    "        Data data = new Data(3, 4); // Create a Data object with a 3x4 grid\n",
    "        data.repopulate(); // Populate the grid with random numbers\n",
    "        data.printGrid(); // Print the grid\n",
    "        int increasingCols = data.countIncreasingCols(); // Count columns with increasing values\n",
    "        System.out.println(\"Number of columns with increasing values: \" + increasingCols);\n",
    "    }\n",
    "\n",
    "    // Method to print the grid (added for clarity)\n",
    "    public void printGrid() {\n",
    "        for (int[] row : grid) {\n",
    "            for (int val : row) {\n",
    "                System.out.print(val + \" \");\n",
    "            }\n",
    "            System.out.println(); // Move to the next row\n",
    "        }\n",
    "    }\n",
    "}\n",
    "\n",
    "\n",
    "Data.main(null);"
   ]
  }
 ],
 "metadata": {
  "kernelspec": {
   "display_name": "Java",
   "language": "java",
   "name": "java"
  },
  "language_info": {
   "codemirror_mode": "java",
   "file_extension": ".jshell",
   "mimetype": "text/x-java-source",
   "name": "java",
   "pygments_lexer": "java",
   "version": "11.0.20+8-post-Ubuntu-1ubuntu122.04"
  },
  "orig_nbformat": 4
 },
 "nbformat": 4,
 "nbformat_minor": 2
}
