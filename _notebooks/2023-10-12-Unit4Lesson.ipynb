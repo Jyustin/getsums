{
 "cells": [
  {
   "cell_type": "markdown",
   "metadata": {},
   "source": [
    "---\n",
    "layout: post\n",
    "title: Unit 4 Lesson\n",
    "toc: true\n",
    "comments: true\n",
    "description: Lesson for APCSA Unit 4\n",
    "courses: { csa: {week: 8} }\n",
    "type: tangibles\n",
    "---"
   ]
  },
  {
   "cell_type": "markdown",
   "metadata": {},
   "source": [
    "# Iteration\n",
    "According to CollegeBoard, **Iteration** is a way to simplify code that would otherwise be repeated many times in succession. Using loops, we can finally implement complex algorithms and solutions to common problems that we weren't able to before.\n",
    "\n",
    "Iteration is repeating sequences to simplify code of advanced algorithms\n",
    "\n",
    "Iteration accounts for **17.5%-22.5%** of the APCSA AP Exam"
   ]
  },
  {
   "cell_type": "markdown",
   "metadata": {},
   "source": [
    "# 4.1: WHILE LOOPS\n",
    "**Learning Objective**: Represent Iterative Processes using a <code>while</code> loop\n",
    "\n",
    "Question: What is a loop and what are some real life examples of this (Setting a Song to repeat on your music player)\n",
    "\n",
    "You know the <code>i</code> variable that you use for while/for loops? It actually has a name, loop control variable"
   ]
  },
  {
   "cell_type": "code",
   "execution_count": null,
   "metadata": {},
   "outputs": [],
   "source": [
    "int i = 0; // initialize loop control variable\n",
    "while (i < 10)  // checks the loop control variable\n",
    "{\n",
    "    System.out.println(\"Doing some code\");\n",
    "    i++;  // update the loop control variable\n",
    "}"
   ]
  },
  {
   "cell_type": "code",
   "execution_count": 8,
   "metadata": {},
   "outputs": [
    {
     "name": "stdout",
     "output_type": "stream",
     "text": [
      "0\n",
      "1\n"
     ]
    },
    {
     "name": "stdout",
     "output_type": "stream",
     "text": [
      "2\n",
      "3\n",
      "4\n",
      "0\n",
      "1\n",
      "2\n",
      "3\n",
      "4\n"
     ]
    }
   ],
   "source": [
    "// Popcorn Hack: Simplify the code segment below\n",
    "int i = 0;\n",
    "System.out.println(i);\n",
    "i++;\n",
    "System.out.println(i);\n",
    "i++;\n",
    "System.out.println(i);\n",
    "i++;\n",
    "System.out.println(i);\n",
    "i++;\n",
    "System.out.println(i);\n",
    "i++;\n",
    "\n",
    "while (i < 5) {\n",
    "    System.out.println(i);\n",
    "    i++;    \n",
    "}\n",
    "\n",
    "for (int j = 0; j < 5; j++) {\n",
    "    System.out.println(j);\n",
    "}"
   ]
  },
  {
   "cell_type": "code",
   "execution_count": null,
   "metadata": {},
   "outputs": [],
   "source": [
    "int i = 0;\n",
    "while (i < 5) { System.out.println(i);\n",
    "i++;\n",
    "}"
   ]
  },
  {
   "cell_type": "markdown",
   "metadata": {},
   "source": [
    "## Infinite loop  \n",
    "An infinite loop is when a while loop always evaluates to true. avoid this when you can because it's probably not good for your computer. if this happens by accident, I recommend copying all code in the block and deleting the block. After you delete the code block, close and reopen the tab that the code block was in.\n",
    "\n",
    "**What's wrong with this code block?**"
   ]
  },
  {
   "cell_type": "code",
   "execution_count": 1,
   "metadata": {},
   "outputs": [],
   "source": [
    "while (true)\n",
    "{\n",
    "    System.out.print(\"CONTROL \");\n",
    "}\n",
    "// DO NOT RUN THE CODE"
   ]
  },
  {
   "cell_type": "markdown",
   "metadata": {},
   "source": [
    "## Do While loop\n",
    "  \n",
    "**What will this code block output?**"
   ]
  },
  {
   "cell_type": "code",
   "execution_count": 9,
   "metadata": {},
   "outputs": [
    {
     "name": "stdout",
     "output_type": "stream",
     "text": [
      "Quite shrimple. "
     ]
    }
   ],
   "source": [
    "// Quite shrimple\n",
    "int i = 0;\n",
    "do \n",
    "{\n",
    "    System.out.print(\"Quite shrimple. \");\n",
    "    i++;\n",
    "}\n",
    "while (i < -5);"
   ]
  },
  {
   "cell_type": "markdown",
   "metadata": {},
   "source": [
    "In a do while loop, it will run the \"do\" once before it reaches the \"while\", and at that point it will start to act like a while loop."
   ]
  },
  {
   "cell_type": "markdown",
   "metadata": {},
   "source": [
    "## For loop\n",
    "this is the standard structure of a for loop"
   ]
  },
  {
   "cell_type": "code",
   "execution_count": 10,
   "metadata": {},
   "outputs": [
    {
     "ename": "CompilationException",
     "evalue": "",
     "output_type": "error",
     "traceback": [
      "\u001b[1m\u001b[30m|   \u001b[1m\u001b[30mfor (\u001b[0m\u001b[1m\u001b[30m\u001b[41minitialization\u001b[0m\u001b[1m\u001b[30m; Boolean expression; update)\u001b[0m",
      "\u001b[1m\u001b[31mnot a statement\u001b[0m",
      "",
      "\u001b[1m\u001b[30m|   \u001b[1m\u001b[30mfor (initialization; Boolean\u001b[0m\u001b[1m\u001b[30m\u001b[41m\u001b[0m\u001b[1m\u001b[30m expression; update)\u001b[0m",
      "\u001b[1m\u001b[31m';' expected\u001b[0m",
      "",
      "\u001b[1m\u001b[30m|   \u001b[1m\u001b[30mfor (initialization; Boolean \u001b[0m\u001b[1m\u001b[30m\u001b[41mexpression\u001b[0m\u001b[1m\u001b[30m; update)\u001b[0m",
      "\u001b[1m\u001b[31mnot a statement\u001b[0m",
      "",
      "\u001b[1m\u001b[30m|   \u001b[1m\u001b[30mfor (initialization; Boolean expression\u001b[0m\u001b[1m\u001b[30m\u001b[41m\u001b[0m\u001b[1m\u001b[30m; update)\u001b[0m",
      "\u001b[1m\u001b[31m')' expected\u001b[0m",
      ""
     ]
    }
   ],
   "source": [
    "for (initialization; Boolean expression; update)\n",
    "{\n",
    "    System.out.println(\"Doing some code\");\n",
    "}"
   ]
  },
  {
   "cell_type": "markdown",
   "metadata": {},
   "source": [
    "Initialization will run at the start of the loop, boolean expression will get checked with every loop, and update runs after every loop.\n",
    "\n",
    "**How many times will this code print \"Doing some code?\"**"
   ]
  },
  {
   "cell_type": "code",
   "execution_count": 2,
   "metadata": {},
   "outputs": [
    {
     "name": "stdout",
     "output_type": "stream",
     "text": [
      "Doing some code\n",
      "Doing some code\n",
      "Doing some code\n",
      "Doing some code\n",
      "Doing some code\n"
     ]
    }
   ],
   "source": [
    "for (int num = 1; num <= 5; num++)\n",
    "{\n",
    "    System.out.println(\"Doing some code\");\n",
    "}"
   ]
  },
  {
   "cell_type": "markdown",
   "metadata": {},
   "source": [
    "In this code, it creates the variable *num* at the start of the loop, it checks if *num* is less than or equal to 5 after each loop, and it adds 1 to *num* after each loop."
   ]
  },
  {
   "cell_type": "markdown",
   "metadata": {},
   "source": [
    "## Enhanced for loop  \n",
    "this is essentially a javascript for loop, as it will iterate through a list and run code in the loop to each variable inside the list"
   ]
  },
  {
   "cell_type": "code",
   "execution_count": 3,
   "metadata": {},
   "outputs": [
    {
     "name": "stdout",
     "output_type": "stream",
     "text": [
      "1 4 6 2 "
     ]
    }
   ],
   "source": [
    "int[] list = {1, 4, 6, 2};\n",
    "for (int j : list)\n",
    "{\n",
    "    System.out.print(j);\n",
    "    System.out.print(\" \");\n",
    "}"
   ]
  },
  {
   "cell_type": "markdown",
   "metadata": {},
   "source": [
    "## Break and Continue\n",
    "In java there are breaks, but there are also continues.\n",
    "\n",
    "### Break  \n",
    "Breaks, as you likely already know, end a loop. They tend to be used with an *if* statement\n",
    "\n",
    "**How many times will this code print \"Big guy?\"**"
   ]
  },
  {
   "cell_type": "code",
   "execution_count": 11,
   "metadata": {},
   "outputs": [
    {
     "name": "stdout",
     "output_type": "stream",
     "text": [
      "Big guy\n",
      "Big guy\n",
      "Big guy\n",
      "Big guy\n",
      "Big guy\n"
     ]
    }
   ],
   "source": [
    "int i = 0; \n",
    "while (i < 10) \n",
    "{\n",
    "    System.out.println(\"Big guy\");\n",
    "    i++;  \n",
    "    if (i == 5) {\n",
    "        break;\n",
    "    }\n",
    "}"
   ]
  },
  {
   "cell_type": "markdown",
   "metadata": {},
   "source": [
    "### Continue  \n",
    "Continue will skip code for an iteration, but will still keep the loop running"
   ]
  },
  {
   "cell_type": "code",
   "execution_count": 13,
   "metadata": {},
   "outputs": [
    {
     "name": "stdout",
     "output_type": "stream",
     "text": [
      "0\n",
      "1\n",
      "2\n",
      "3\n",
      "4\n",
      "\n",
      "6\n",
      "7\n",
      "8\n",
      "9\n"
     ]
    }
   ],
   "source": [
    "int i = 0; \n",
    "while (i < 10) \n",
    "{\n",
    "    if (i == 5) {\n",
    "        i++; // don't forget this, it creates an error similar to an infinite loop\n",
    "        System.out.println(\"\");\n",
    "        continue;\n",
    "    }\n",
    "    System.out.println(i);\n",
    "    i++;  \n",
    "}"
   ]
  },
  {
   "cell_type": "markdown",
   "metadata": {},
   "source": [
    "# 4.3: Developing Algorithms Using Strings\n",
    "**Learning Objective**: For algorithms in the context of a particular specification that involves <code>String</code> objects:"
   ]
  },
  {
   "cell_type": "markdown",
   "metadata": {},
   "source": [
    "### Methods in Java that help to MANIPULATE STRINGS\n",
    "- String.substring - Retrieves a particular portion of a String\n",
    "- String.equals - Comparees the content of two strings\n",
    "- String.length - Returns the length of a String"
   ]
  },
  {
   "cell_type": "code",
   "execution_count": 26,
   "metadata": {},
   "outputs": [
    {
     "name": "stdout",
     "output_type": "stream",
     "text": [
      "Common Prefix: C\n",
      "Common Prefix: Co\n",
      "Common Prefix: Cod\n",
      "Common Prefix: Codi\n",
      "Common Prefix: Codin\n",
      "Common Prefix: Coding\n",
      "Common Prefix: Coding \n",
      "Common Prefix: Coding i\n",
      "Common Prefix: Coding is\n",
      "Common Prefix: Coding is \n",
      "Common Prefix: Coding is c\n",
      "Common Prefix: Coding is co\n"
     ]
    }
   ],
   "source": [
    "public class Compare {\n",
    "    public static void main(String[] args) {\n",
    "        String string1 = \"Coding is cool!\";\n",
    "        String string2 = \"Coding is coding!\";\n",
    "\n",
    "        int minLength = Math.min(string1.length(), string2.length());\n",
    "\n",
    "        for (int i = 0; i < minLength; i++) {\n",
    "            String subString1 = string1.substring(0, i + 1);\n",
    "            String subString2 = string2.substring(0, i + 1);\n",
    "\n",
    "            if (subString1.equals(subString2)) {\n",
    "                System.out.println(\"Common Prefix: \" + subString2);\n",
    "            }\n",
    "        }\n",
    "    }\n",
    "}\n",
    "Compare.main(null)"
   ]
  },
  {
   "cell_type": "markdown",
   "metadata": {},
   "source": [
    "**Where are the 3 methods in the above Java Cell and how do they contribute to the program's functionality?**\n",
    "\n",
    "# answer\n",
    "string.length() is used to determine the length of the string, for use with the math.min\n",
    "\n",
    "string.substring is used to return a substring of the string, here its used for the common prefix\n",
    "\n",
    "math.min is used to return the smaller of two numbers, here its used to determine the length of the 2 strings and then determine the common prefix"
   ]
  },
  {
   "cell_type": "code",
   "execution_count": 14,
   "metadata": {},
   "outputs": [
    {
     "name": "stdout",
     "output_type": "stream",
     "text": [
      "The Number of vowels in \"supercalifragilisticexpialidocious\" is 16\n"
     ]
    }
   ],
   "source": [
    "String word = \"supercalifragilisticexpialidocious\";\n",
    "int count = 0;\n",
    "\n",
    "for (int i = 0; i < word.length(); i++) {\n",
    "    char letter = word.charAt(i);\n",
    "    if (letter == 'a' || letter == 'e' || letter == 'i' || letter == 'o' || letter == 'u') {\n",
    "        count++;\n",
    "    }\n",
    "}\n",
    "\n",
    "System.out.println(\"The Number of vowels in \\\"\" + word + \"\\\" is \" + count);\n"
   ]
  },
  {
   "cell_type": "markdown",
   "metadata": {},
   "source": [
    "**What does word.length() do and how do we use it above?**  \n",
    "\n",
    "### Answer:\n",
    "\n",
    "word.length() returns the length of the word. its 1 based counting.\n",
    "\n",
    "**What Boolean Operator is used?**\n",
    "\n",
    "### Answer:\n",
    "\n",
    "we use && for and and || for or."
   ]
  },
  {
   "cell_type": "code",
   "execution_count": 18,
   "metadata": {},
   "outputs": [
    {
     "name": "stdout",
     "output_type": "stream",
     "text": [
      "We found the Smaller String!\n"
     ]
    }
   ],
   "source": [
    "public class Main {\n",
    "    public static void main(String[] args) {\n",
    "        String word = \"Scooby Doo\";\n",
    "        String sub = \"Doo\";\n",
    "        boolean found = false;\n",
    "\n",
    "        for (int i = 0; i <= word.length() - sub.length(); i++) {\n",
    "            String portion = word.substring(i, i + sub.length());\n",
    "            if (portion.equals(sub)) {\n",
    "                found = true;\n",
    "            }\n",
    "        }\n",
    "        if (found) {\n",
    "            System.out.println(\"We found the Smaller String!\");\n",
    "        } else {\n",
    "            System.out.println(\"We did not find the Smaller String! \\t Ruh Roh!\");\n",
    "        }\n",
    "    }\n",
    "}\n",
    "Main.main(null)"
   ]
  },
  {
   "cell_type": "markdown",
   "metadata": {},
   "source": [
    "### String concatenation\n",
    "String concatenation is when you want to add to strings together"
   ]
  },
  {
   "cell_type": "code",
   "execution_count": 47,
   "metadata": {},
   "outputs": [
    {
     "name": "stdout",
     "output_type": "stream",
     "text": [
      "Original String: String\n",
      "Reversed String: gnirtS\n"
     ]
    }
   ],
   "source": [
    "String original = \"String\";\n",
    "String reversed = \"\";\n",
    "for (int i = 0; i < original.length(); i++)\n",
    "{\n",
    "    String single = original.substring(i,i+1);\n",
    "    reversed = single + reversed;\n",
    "}\n",
    "System.out.println(\"Original String: \" + original);\n",
    "System.out.println(\"Reversed String: \" + reversed);\n"
   ]
  },
  {
   "cell_type": "markdown",
   "metadata": {},
   "source": [
    "# 4.4: Nested Iteration\n",
    "**Learning Objective**: Represent nested iteration processes\n",
    "\n",
    "Essential Knowledge:\n",
    "- Nested iteration is when an iteration statement appears inside the body of another iteration statement\n",
    "- The inner loop must complete all of its iterations before the outer loop can continue. \n",
    "\n",
    "**Before uncommenting the code, guess what the output will look like:**\n",
    "\n",
    "\n",
    "we print 1 and 2, 4 times "
   ]
  },
  {
   "cell_type": "code",
   "execution_count": 15,
   "metadata": {},
   "outputs": [
    {
     "name": "stdout",
     "output_type": "stream",
     "text": [
      "1 2 \n",
      "1 2 \n",
      "1 2 \n",
      "1 2 \n"
     ]
    }
   ],
   "source": [
    "public class NestedLoops{\n",
    "\n",
    "    public static void main(String[] args){\n",
    "\n",
    "        for (int outer = 1; outer < 5; outer++){\n",
    "\n",
    "             for (int inner = 1; inner < 3; inner++){\n",
    "                \n",
    "                 System.out.print(inner + \" \");\n",
    "             }\n",
    "\n",
    "             System.out.println();\n",
    "\n",
    "         } \n",
    "\n",
    "    }\n",
    "}\n",
    "\n",
    "NestedLoops.main(null)"
   ]
  },
  {
   "cell_type": "code",
   "execution_count": 18,
   "metadata": {},
   "outputs": [
    {
     "name": "stdout",
     "output_type": "stream",
     "text": [
      "1 1 1 1 \n",
      "2 2 2 2 \n"
     ]
    }
   ],
   "source": [
    "public class NestedLoops{\n",
    "\n",
    "    public static void main(String[] args){\n",
    "        for ( int inner = 1; inner < 3; inner++){\n",
    "\n",
    "             for (int outer = 1; outer < 5; outer++){\n",
    "                \n",
    "                 System.out.print(inner + \" \");\n",
    "             }\n",
    "\n",
    "             System.out.println();\n",
    "\n",
    "         } \n",
    "\n",
    "    }\n",
    "}\n",
    "\n",
    "NestedLoops.main(null)"
   ]
  },
  {
   "cell_type": "markdown",
   "metadata": {},
   "source": [
    "**What will the output of the code above be if we switch the loop headers (the stuff inside of the for loop)?**\n",
    "\n",
    "we print 4, 5 instead, 4 times \n",
    "\n",
    "**After making a prediction actually switch the loop headers for yourself. What do you notice about the output compared to the output before the change?**\n",
    "\n",
    "I was wrong, its instead printing it 1 4 times then 2 4 times, instead of 1 and 2 4 times."
   ]
  },
  {
   "cell_type": "markdown",
   "metadata": {},
   "source": [
    "# 4.5: Informal Code Analysis\n",
    "\n",
    "Essential Knowledge:\n",
    "- A statement exectution count indicates the number of times a statement is executed by the program\n",
    "\n"
   ]
  },
  {
   "cell_type": "code",
   "execution_count": 20,
   "metadata": {},
   "outputs": [],
   "source": [
    "for (int outer = 0; outer < 3; outer++){\n",
    "    for (int inner = 0; inner < 4; inner++){\n",
    "        // statement #1\n",
    "    }\n",
    "}"
   ]
  },
  {
   "cell_type": "markdown",
   "metadata": {},
   "source": [
    "**In the code above, how many times will the inner loop execute when outer = 0?** __3__\n",
    "\n",
    "**In the code above, how many times will the inner loop execute when outer = 1?** __2__  \n",
    "\n",
    "**In the code above, how many times will the inner loop execute when outer = 2?** __1__  \n",
    "\n",
    "**In the code above, how many times will the inner loop execute in total?** __4___\n"
   ]
  },
  {
   "cell_type": "code",
   "execution_count": null,
   "metadata": {},
   "outputs": [],
   "source": [
    "for (int outer = 5; outer > 0; outer--){\n",
    "    for (int inner = 0; inner < outer; inner++){\n",
    "        // statement #1\n",
    "    }\n",
    "}"
   ]
  },
  {
   "cell_type": "markdown",
   "metadata": {},
   "source": [
    "**In the code above, how many times will the inner loop execute when outer = 5?** __5__  \n",
    "\n",
    "**In the code above, how many times will the inner loop execute when outer = 4?** __4__  \n",
    "\n",
    "**In the code above, how many times will the inner loop execute when outer = 3?** __3__  \n",
    "\n",
    "**In the code above, how many times will the inner loop execute in total?** __15__"
   ]
  },
  {
   "cell_type": "code",
   "execution_count": 21,
   "metadata": {},
   "outputs": [],
   "source": [
    "int k = 0;\n",
    "while (k < 5){\n",
    "    int x = (int)(Math.random()*6) + 1;\n",
    "    while (x != 6){\n",
    "        //statement #1\n",
    "        x = (int)(Math.random()*6) + 1;\n",
    "    }\n",
    "    k++;\n",
    "}"
   ]
  },
  {
   "cell_type": "markdown",
   "metadata": {},
   "source": [
    "**In the code above, how many times will the statement #1 execute?** __random b/c math.random__"
   ]
  },
  {
   "cell_type": "code",
   "execution_count": 22,
   "metadata": {},
   "outputs": [
    {
     "name": "stdout",
     "output_type": "stream",
     "text": [
      "05101520253035404550556065707580859095100105110115120125130"
     ]
    }
   ],
   "source": [
    "for (int k = 0; k < 135; k++){\n",
    "    if (k % 5 == 0){ // Statement #1\n",
    "        System.out.print(k); // Statement #2\n",
    "    }\n",
    "}"
   ]
  },
  {
   "cell_type": "markdown",
   "metadata": {},
   "source": [
    "**In the code above, how many times will the statement #1 execute?** __135__  \n",
    "\n",
    "**In the code above, how many times will the statement #2 execute?** __27__\n",
    "\n",
    "Rewrite the code above to be more effecient based on execution count. \n"
   ]
  },
  {
   "cell_type": "code",
   "execution_count": 25,
   "metadata": {},
   "outputs": [
    {
     "name": "stdout",
     "output_type": "stream",
     "text": [
      "0055101015152020252530303535404045455050555560606565707075758080858590909595100100105105110110115115120120125125130130"
     ]
    }
   ],
   "source": [
    "for (int k = 0; k < 135; k+= 5){ //+= 5 optimizes code \n",
    "    if (k % 5 == 0){ // Statement #1\n",
    "        System.out.print(k); // Statement #2\n",
    "    }\n",
    "}"
   ]
  },
  {
   "cell_type": "markdown",
   "metadata": {},
   "source": [
    "# HACKS\n",
    "These hacks will be due on Monday (October 16th) before class"
   ]
  },
  {
   "cell_type": "markdown",
   "metadata": {},
   "source": [
    "### Hacks\n",
    "- Finish the popcorn hacks (0.2)\n",
    "- Rewrite the for loop (0.25)\n",
    "- Complete the Ceaser Cipher Code (0.45)\n"
   ]
  },
  {
   "cell_type": "code",
   "execution_count": null,
   "metadata": {},
   "outputs": [],
   "source": [
    "for (int k = 0; k < 40; k++){\n",
    "    if (k % 4 == 0){\n",
    "        System.out.println(k); \n",
    "    }\n",
    "}"
   ]
  },
  {
   "cell_type": "markdown",
   "metadata": {},
   "source": [
    "Rewrite the code above 3 different times\n",
    "- Your code should be more efficient based execution count\n",
    "- Your code should use 3 different types of loops that you learned above (Hint: You may need to use a list)\n",
    "\n",
    "\n",
    "\n",
    "# TOP CODE REWRITE 1\n"
   ]
  },
  {
   "cell_type": "code",
   "execution_count": 31,
   "metadata": {},
   "outputs": [
    {
     "name": "stdout",
     "output_type": "stream",
     "text": [
      "0\n",
      "4\n",
      "8\n",
      "12\n",
      "16\n",
      "20\n",
      "24\n",
      "28\n",
      "32\n",
      "36\n"
     ]
    }
   ],
   "source": [
    "\n",
    "for (int k = 0; k < 40; k+= 4){ // adding += 4 instead of k++ to reduce the number of times the loop runs\n",
    "    if (k % 4 == 0){\n",
    "        System.out.println(k); \n",
    "    }\n",
    "}"
   ]
  },
  {
   "cell_type": "markdown",
   "metadata": {},
   "source": [
    "# TOP CODE REWRITE 2"
   ]
  },
  {
   "cell_type": "code",
   "execution_count": 32,
   "metadata": {},
   "outputs": [
    {
     "name": "stdout",
     "output_type": "stream",
     "text": [
      "0\n",
      "4\n",
      "8\n",
      "12\n",
      "16\n",
      "20\n",
      "24\n",
      "28\n",
      "32\n",
      "36\n"
     ]
    }
   ],
   "source": [
    "int k = 0;\n",
    "\n",
    "// this time we use a while loop instead of a for loop\n",
    "while (k < 40) {\n",
    "    if (k % 4 == 0){\n",
    "        System.out.println(k);\n",
    "    }\n",
    "    k+= 4;\n",
    "}\n"
   ]
  },
  {
   "cell_type": "markdown",
   "metadata": {},
   "source": [
    "# TOP CODE REWRITE 3"
   ]
  },
  {
   "cell_type": "code",
   "execution_count": 43,
   "metadata": {},
   "outputs": [
    {
     "name": "stdout",
     "output_type": "stream",
     "text": [
      "0 4 8 12 16 20 24 28 32 36 "
     ]
    }
   ],
   "source": [
    "int[] multiplesOfFour = new int[10]; // Array size is adjusted to fit multiples of 4 up to 36.\n",
    "\n",
    "int value = 0;\n",
    "for (int i = 0; i < multiplesOfFour.length; i++) {\n",
    "    multiplesOfFour[i] = value;\n",
    "    value += 4;\n",
    "}\n",
    "\n",
    "for (int multiple : multiplesOfFour) {\n",
    "    System.out.print(multiple + \" \");\n",
    "}\n"
   ]
  },
  {
   "cell_type": "markdown",
   "metadata": {},
   "source": [
    "#### Ceaser Cipher Hacks\n",
    "Try to write a cipher program that shifts each letter in a message 3 letters forward. Use any of the methods you learned today. Use it to decode the 3 messages we've given you!"
   ]
  },
  {
   "cell_type": "code",
   "execution_count": 64,
   "metadata": {},
   "outputs": [
    {
     "ename": "CompilationException",
     "evalue": "",
     "output_type": "error",
     "traceback": [
      "\u001b[1m\u001b[30m|   \u001b[1m\u001b[30m        char index = \u001b[0m\u001b[1m\u001b[30m\u001b[41mletters[letter]\u001b[0m\u001b[1m\u001b[30m;\u001b[0m",
      "\u001b[1m\u001b[31mincompatible types: java.lang.String cannot be converted to char\u001b[0m",
      ""
     ]
    }
   ],
   "source": [
    "public class CaesarCipher {\n",
    "\n",
    "    public static void main(String[] args) {\n",
    "\n",
    "        String[] letters = {\"a\", \"b\", \"c\", \"d\", \"e\", \"f\", \"g\", \"h\", \"i\", \"j\", \"k\", \"l\", \"m\", \"n\", \"o\", \"p\", \"q\", \"r\", \"s\", \"t\", \"u\", \"v\", \"w\", \"x\", \"y\", \"z\"};\n",
    "        String message1 = \"Kfzb gly!\";\n",
    "        String message2 = \"zlab zlab zlab\";\n",
    "        String message3 = \"prmbozxifcoxdfifpqfzbumfxifalzflrp\";\n",
    "\n",
    "        String msg1mod =\"\";\n",
    "\n",
    "        for (int i = 0; i < message1.length(); i++)\n",
    "     {\n",
    "        char letter = message1.charAt(i);\n",
    "        \n",
    "\n",
    "     }\n",
    "}\n",
    "}\n",
    "\n",
    "\n",
    "\n",
    "CaesarCipher.main(null);"
   ]
  },
  {
   "cell_type": "code",
   "execution_count": 68,
   "metadata": {},
   "outputs": [
    {
     "ename": "EvalException",
     "evalue": "Index -15 out of bounds for length 26",
     "output_type": "error",
     "traceback": [
      "\u001b[1m\u001b[31m---------------------------------------------------------------------------\u001b[0m",
      "\u001b[1m\u001b[31mjava.lang.ArrayIndexOutOfBoundsException: Index -15 out of bounds for length 26\u001b[0m",
      "\u001b[1m\u001b[31m\tat CaesarCipher.main(#110:19)\u001b[0m",
      "\u001b[1m\u001b[31m\tat .(#126:1)\u001b[0m"
     ]
    }
   ],
   "source": [
    "public class CaesarCipher {\n",
    "\n",
    "    public static void main(String[] args) {\n",
    "\n",
    "        String[] letters = {\"a\", \"b\", \"c\", \"d\", \"e\", \"f\", \"g\", \"h\", \"i\", \"j\", \"k\", \"l\", \"m\", \"n\", \"o\", \"p\", \"q\", \"r\", \"s\", \"t\", \"u\", \"v\", \"w\", \"x\", \"y\", \"z\"};\n",
    "        String message1 = \"Kfzb gly!\";\n",
    "        String message2 = \"zlab zlab zlab\";\n",
    "        String message3 = \"prmbozxifcoxdfifpqfzbumfxifalzflrp\";\n",
    "\n",
    "        String msg1mod = \"\";\n",
    "\n",
    "        for (int i = 0; i < message1.length(); i++) {\n",
    "            char letter = message1.charAt(i);\n",
    "\n",
    "            if (Character.isLetter(letter)) {\n",
    "                char lowercaseLetter = Character.toLowerCase(letter); // Convert to lowercase for case insensitivity\n",
    "                if (lowercaseLetter >= 'a' && lowercaseLetter <= 'z') {\n",
    "                    int index = lowercaseLetter - 'a';\n",
    "                    msg1mod += letters[index];\n",
    "                } else {\n",
    "                    msg1mod += letter; // Keep non-letter characters as they are\n",
    "                }\n",
    "            } else {\n",
    "                msg1mod += letter; // Keep non-letter characters as they are\n",
    "            }\n",
    "        }\n",
    "\n",
    "        System.out.println(msg1mod);\n",
    "    }\n",
    "}\n",
    "CaesarCipher.main(null);"
   ]
  },
  {
   "cell_type": "code",
   "execution_count": 74,
   "metadata": {},
   "outputs": [
    {
     "name": "stdout",
     "output_type": "stream",
     "text": [
      "Nice job!\n"
     ]
    }
   ],
   "source": [
    "public class CaesarCipher {\n",
    "\n",
    "    public static void main(String[] args) {\n",
    "\n",
    "        String message1 = \"Kfzb gly!\";\n",
    "        String msg1mod = \"\";\n",
    "\n",
    "        for (int i = 0; i < message1.length(); i++) {\n",
    "            char letter = message1.charAt(i);\n",
    "\n",
    "            if (Character.isLetter(letter)) {\n",
    "                char baseChar = Character.isUpperCase(letter) ? 'A' : 'a'; // Determine the base character ('A' for uppercase, 'a' for lowercase)\n",
    "                char shiftedLetter = (char) (((letter - baseChar + 3) % 26) + baseChar); // Shift the letter by 3 positions\n",
    "                msg1mod += shiftedLetter;\n",
    "            } else {\n",
    "                msg1mod += letter; // Keep non-letter characters as they are\n",
    "            }\n",
    "        }\n",
    "\n",
    "        System.out.println(msg1mod);\n",
    "    }\n",
    "}\n",
    "\n",
    "CaesarCipher.main(null);"
   ]
  }
 ],
 "metadata": {
  "kernelspec": {
   "display_name": "Java",
   "language": "java",
   "name": "java"
  },
  "language_info": {
   "codemirror_mode": "java",
   "file_extension": ".jshell",
   "mimetype": "text/x-java-source",
   "name": "java",
   "pygments_lexer": "java",
   "version": "20.0.2+9"
  }
 },
 "nbformat": 4,
 "nbformat_minor": 2
}
